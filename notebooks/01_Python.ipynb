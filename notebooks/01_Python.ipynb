{
 "cells": [
  {
   "cell_type": "markdown",
   "metadata": {},
   "source": [
    "# 1. Python\n",
    "\n",
    "※Pythonある程度書けます！という方はこの章を飛ばして下さい"
   ]
  },
  {
   "cell_type": "markdown",
   "metadata": {
    "collapsed": true
   },
   "source": [
    "## Pythonとは？\n",
    "\n",
    "Pythonは，構文がシンプルな軽量スクリプト型プログラミング言語です．  \n",
    "ここでは，本ハンズオンを行う上で必要そうな内容をかいつまんで紹介します．\n",
    "\n",
    "・・・の前に，この実行環境について簡単な操作方法を説明しましょう．  \n",
    "この実行環境では，左側に `In []` が表示された以下の様なセル上でPythonのコードを実行することができます．  \n",
    "試してみましょう．以下のセルにカーソルを合わせて，shift+enter を押して下さい．"
   ]
  },
  {
   "cell_type": "code",
   "execution_count": null,
   "metadata": {
    "collapsed": true
   },
   "outputs": [],
   "source": [
    "print('Hello World!')"
   ]
  },
  {
   "cell_type": "markdown",
   "metadata": {},
   "source": [
    "プログラムが正しく実行されたら，`Hello World!` という実行結果が表示されているはずです．"
   ]
  },
  {
   "cell_type": "markdown",
   "metadata": {},
   "source": [
    "### インデントをブロックとして利用\n",
    "\n",
    "Pythonの大きな特徴の一つに，ブロックを表現する際 `{}` や `begin ... end` を使わずインデントを使うという点が挙げられます．例を見てみましょう．  \n",
    "以下のセル上で shift+enter を押して書かれているプログラムを実行してみて下さい．"
   ]
  },
  {
   "cell_type": "code",
   "execution_count": null,
   "metadata": {
    "collapsed": true
   },
   "outputs": [],
   "source": [
    "# Hello World という関数を定義\n",
    "def print_helloworld():\n",
    "    print('Hello World!')\n",
    "\n",
    "# 定義した関数を呼び出し\n",
    "print_helloworld()"
   ]
  },
  {
   "cell_type": "markdown",
   "metadata": {},
   "source": [
    "プログラムが正しく実行出来れば，`Hello World!` が表示されます．  \n",
    "ここで，`print('Hello World')` の前のスペースを全て消してプログラムを実行するとどうなるでしょうか？\n",
    "\n",
    "...\n",
    "\n",
    "`IndentationError` が発生するかと思います．これはプログラムがインデントをブロックとして解釈しているためです．  \n",
    "不用意にインデントを削除するとプログラムが動作しなくなることがあるため，注意して下さい．"
   ]
  },
  {
   "cell_type": "markdown",
   "metadata": {},
   "source": [
    "### 行列の処理\n",
    "\n",
    "機械学習をする上でほとんどのデータは行列形式で与えられますので，行列操作について学んでおきましょう．  \n",
    "Pythonにおける行列演算には，`numpy` というライブラリを利用します．\n",
    "\n",
    "まずは以下を実行してみましょう．"
   ]
  },
  {
   "cell_type": "code",
   "execution_count": 20,
   "metadata": {
    "collapsed": false
   },
   "outputs": [
    {
     "data": {
      "text/plain": [
       "array([1, 2, 3])"
      ]
     },
     "execution_count": 20,
     "metadata": {},
     "output_type": "execute_result"
    }
   ],
   "source": [
    "import numpy as np\n",
    "\n",
    "a = np.array([1, 2, 3])  # 1, 2, 3の要素が入った1次行列を作る\n",
    "a"
   ]
  },
  {
   "cell_type": "code",
   "execution_count": 45,
   "metadata": {
    "collapsed": false
   },
   "outputs": [
    {
     "data": {
      "text/plain": [
       "array([[ 1.5,  0. ],\n",
       "       [ 2. ,  3. ]])"
      ]
     },
     "execution_count": 45,
     "metadata": {},
     "output_type": "execute_result"
    }
   ],
   "source": [
    "b = np.array([[1.5, 0], [2.0, 3.0]])  # 2次行列を作る\n",
    "b"
   ]
  },
  {
   "cell_type": "markdown",
   "metadata": {},
   "source": [
    "インデックスを利用して行列の要素へアクセス出来ます（他のプログラミング言語と同じです）    \n",
    "以下を実行してみましょう．"
   ]
  },
  {
   "cell_type": "code",
   "execution_count": null,
   "metadata": {
    "collapsed": true
   },
   "outputs": [],
   "source": [
    "a[0]  # 0番目の要素にアクセス"
   ]
  },
  {
   "cell_type": "markdown",
   "metadata": {},
   "source": [
    "bの行列の3.0の要素にアクセスするには以下のように書きます．実行してみましょう．"
   ]
  },
  {
   "cell_type": "code",
   "execution_count": null,
   "metadata": {
    "collapsed": true
   },
   "outputs": [],
   "source": [
    "b[1, 1]  # b[1][1] とも書ける．同義"
   ]
  },
  {
   "cell_type": "markdown",
   "metadata": {},
   "source": [
    "bの行列の2.0の要素にアクセスしてみましょう．"
   ]
  },
  {
   "cell_type": "code",
   "execution_count": null,
   "metadata": {
    "collapsed": true
   },
   "outputs": [],
   "source": [
    "# bの行列の2.0の要素にアクセス\n"
   ]
  },
  {
   "cell_type": "markdown",
   "metadata": {},
   "source": [
    "行列の大きさを知るためには，`.shape` を使います．  \n",
    "以下を実行してみましょう．"
   ]
  },
  {
   "cell_type": "code",
   "execution_count": null,
   "metadata": {
    "collapsed": true
   },
   "outputs": [],
   "source": [
    "a.shape"
   ]
  },
  {
   "cell_type": "markdown",
   "metadata": {},
   "source": [
    "上記の結果は (3, 1) と同義です．大きさが1の場合は省略して書かれます．  \n",
    "bの行列の大きさを確認してみて下さい．"
   ]
  },
  {
   "cell_type": "code",
   "execution_count": null,
   "metadata": {
    "collapsed": true
   },
   "outputs": [],
   "source": [
    "# bの行列の大きさを確認\n"
   ]
  },
  {
   "cell_type": "markdown",
   "metadata": {},
   "source": [
    "今回の例は非常に小さな行列ですが，機械学習ではえてして大規模なデータを扱うことが多いため，行列の中身の一部だけを確認する方法も勉強しておきましょう．  \n",
    "行列の一部を確認するにはスライス操作が便利です．\n",
    "\n",
    "スライス操作：  \n",
    "a [ start : end ] --> [ start, ..., end-1 ]  ( start, end はどちらも数字 )\n",
    "\n",
    "start / end の数字を変更することで，巨大な行列から任意の大きさの行列を一部取り出して確認することができます．  \n",
    "以下を実行してみましょう．"
   ]
  },
  {
   "cell_type": "code",
   "execution_count": null,
   "metadata": {
    "collapsed": true
   },
   "outputs": [],
   "source": [
    "a[0:2]  # a[:2] とも書けます"
   ]
  },
  {
   "cell_type": "markdown",
   "metadata": {},
   "source": [
    "行列の0番目から，2-1=1番目までの要素を取り出して確認することができました．  \n",
    "`:` のみを利用するとその行列中の全ての要素を返してきます．  \n",
    "以下を実行してみましょう．"
   ]
  },
  {
   "cell_type": "code",
   "execution_count": null,
   "metadata": {
    "collapsed": true
   },
   "outputs": [],
   "source": [
    "a[:]"
   ]
  },
  {
   "cell_type": "markdown",
   "metadata": {},
   "source": [
    "ここまでのテクニックを組み合わせてみましょう（ややこしくなって参りました）  \n",
    "各行の0番目の要素にアクセスするには以下のように書きます．"
   ]
  },
  {
   "cell_type": "code",
   "execution_count": null,
   "metadata": {
    "collapsed": true
   },
   "outputs": [],
   "source": [
    "b[:, 0]"
   ]
  },
  {
   "cell_type": "markdown",
   "metadata": {},
   "source": [
    "`array([0., 3.0])` の結果を得るためには，bの行列に対してどのような操作をすればよいでしょうか？"
   ]
  },
  {
   "cell_type": "code",
   "execution_count": null,
   "metadata": {
    "collapsed": true
   },
   "outputs": [],
   "source": [
    "# bの行列へどのようにアクセスすれば `array([0., 3.0])` の結果が得られる？\n"
   ]
  },
  {
   "cell_type": "markdown",
   "metadata": {},
   "source": [
    "最後におさらいです．以下のような `c` という行列を定義します．  \n",
    "この行列の\n",
    "\n",
    "- 行列のサイズはどうなっていますか？\n",
    "- 各行の最初の10列を確認してみて下さい"
   ]
  },
  {
   "cell_type": "code",
   "execution_count": null,
   "metadata": {
    "collapsed": true
   },
   "outputs": [],
   "source": [
    "c = np.array([np.linspace(10, 100, 50), np.linspace(0, 1, 50), np.linspace(10, 20, 50)])"
   ]
  },
  {
   "cell_type": "code",
   "execution_count": null,
   "metadata": {
    "collapsed": true
   },
   "outputs": [],
   "source": [
    "# 行列のサイズは？\n"
   ]
  },
  {
   "cell_type": "code",
   "execution_count": null,
   "metadata": {
    "collapsed": true
   },
   "outputs": [],
   "source": [
    "# 各行の最初の10列を表示\n"
   ]
  }
 ],
 "metadata": {
  "kernelspec": {
   "display_name": "Python 3",
   "language": "python",
   "name": "python3"
  },
  "language_info": {
   "codemirror_mode": {
    "name": "ipython",
    "version": 3
   },
   "file_extension": ".py",
   "mimetype": "text/x-python",
   "name": "python",
   "nbconvert_exporter": "python",
   "pygments_lexer": "ipython3",
   "version": "3.4.3"
  }
 },
 "nbformat": 4,
 "nbformat_minor": 0
}
