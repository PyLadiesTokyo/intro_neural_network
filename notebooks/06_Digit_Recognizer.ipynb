{
 "cells": [
  {
   "cell_type": "code",
   "execution_count": null,
   "metadata": {
    "collapsed": true
   },
   "outputs": [],
   "source": [
    "# 後ほど図を描画するために使います\n",
    "# 先に実行しておいて下さい\n",
    "\n",
    "%matplotlib inline\n",
    "\n",
    "import matplotlib.pyplot as plt\n",
    "import numpy as np\n",
    "\n",
    "plt.style.use('fivethirtyeight')"
   ]
  },
  {
   "cell_type": "markdown",
   "metadata": {},
   "source": [
    "# 6. Digit Recognizer"
   ]
  },
  {
   "cell_type": "markdown",
   "metadata": {},
   "source": [
    "まずデータを読み込みます（データの詳細については5つめのNotebookを確認して下さい）"
   ]
  },
  {
   "cell_type": "code",
   "execution_count": null,
   "metadata": {
    "collapsed": true
   },
   "outputs": [],
   "source": [
    "# データの読み込み\n",
    "\n",
    "import gzip\n",
    "import pickle\n",
    "\n",
    "f = gzip.open('mnist.pkl.gz', 'rb')\n",
    "train_set, _, test_set = pickle.load(f, encoding='latin1')\n",
    "\n",
    "X, y =train_set\n",
    "X_test, y_test = test_set"
   ]
  },
  {
   "cell_type": "markdown",
   "metadata": {},
   "source": [
    "3つめのNotebookで取り上げた分類器と同様に，`scikit-learn` の中にはニューラルネットワークの分類器が既に存在しています．  \n",
    "しかし実はNeural Networkの入った `scikit-learn` が開発バージョンだったという事が判明したので，ここでは `scikit-learn` ライクに使えるNeural Networkのコードを書いたのでこちらを流用します．\n",
    "\n",
    "以下を実行して下さい．"
   ]
  },
  {
   "cell_type": "code",
   "execution_count": null,
   "metadata": {
    "collapsed": true
   },
   "outputs": [],
   "source": [
    "from neural_network import NeuralNetwork\n",
    "\n",
    "classifier = NeuralNetwork(input_size=784, output_size=10, hidden_size=324)"
   ]
  },
  {
   "cell_type": "markdown",
   "metadata": {},
   "source": [
    "`classifier.fit` を利用して，データから分類規則を学習してみましょう（※とっても重いです）    \n",
    "※詰まる方は3つ目のNotebookに戻っておさらいしましょう"
   ]
  },
  {
   "cell_type": "code",
   "execution_count": null,
   "metadata": {
    "collapsed": true
   },
   "outputs": [],
   "source": [
    "# データから分類規則を学習\n"
   ]
  },
  {
   "cell_type": "markdown",
   "metadata": {},
   "source": [
    "classifier.score を利用してテストデータに対する分類の精度を数値で確認してみましょう．  \n",
    "※詰まる方は3つ目のNotebookに戻っておさらいしましょう"
   ]
  },
  {
   "cell_type": "code",
   "execution_count": null,
   "metadata": {
    "collapsed": true
   },
   "outputs": [],
   "source": [
    "# テストデータに対する分類の正解率 [%]\n"
   ]
  },
  {
   "cell_type": "markdown",
   "metadata": {},
   "source": [
    "かなり高い精度で数字を認識できることが分かりました！  \n",
    "\n",
    "`classifier.predict` に手書き数字のデータを渡すと，そこから予測された数字を返してくれます．  \n",
    "以下を実行してみて下さい．"
   ]
  },
  {
   "cell_type": "code",
   "execution_count": null,
   "metadata": {
    "collapsed": true
   },
   "outputs": [],
   "source": [
    "classifier.predict(X_test[0])"
   ]
  },
  {
   "cell_type": "markdown",
   "metadata": {},
   "source": [
    "予測結果は正しかったでしょうか？対応する `y_test` のデータを確認してみましょう．  \n",
    "以下を実行してみて下さい．"
   ]
  },
  {
   "cell_type": "code",
   "execution_count": null,
   "metadata": {
    "collapsed": true
   },
   "outputs": [],
   "source": [
    "y_test[0]"
   ]
  },
  {
   "cell_type": "markdown",
   "metadata": {},
   "source": [
    "より詳しく結果を見るために，正解率の高い数字 / 低い数字を確認してみましょう．  \n",
    "`X_test` ，`y_test`，`classifier.predict` を利用して実装して下さい．"
   ]
  },
  {
   "cell_type": "code",
   "execution_count": null,
   "metadata": {
    "collapsed": true
   },
   "outputs": [],
   "source": [
    "# 数字ごとの正解率を確認しましょう\n"
   ]
  },
  {
   "cell_type": "markdown",
   "metadata": {},
   "source": [
    "どの画像をどう判定したのかざっくり確認してみましょう．  \n",
    "以下を実行してみて下さい．"
   ]
  },
  {
   "cell_type": "code",
   "execution_count": null,
   "metadata": {
    "collapsed": true
   },
   "outputs": [],
   "source": [
    "def draw_result(X, y, pred, cnt):\n",
    "    size = 28\n",
    "    Z = X.reshape(size, size)\n",
    "    Z = Z[::-1,:]\n",
    "    \n",
    "    plt.subplot(10, 10, cnt)\n",
    "    plt.xlim(0, size - 1)\n",
    "    plt.ylim(0, size - 1)\n",
    "    plt.pcolor(Z)\n",
    "    plt.title(\"y={0}, pred={1}\".format(y, pred), size=8)\n",
    "    plt.gray()\n",
    "    plt.tick_params(labelbottom=\"off\")\n",
    "    plt.tick_params(labelleft=\"off\")\n",
    "\n",
    "plt.figure(figsize=(15, 15))\n",
    "for cnt, idx in enumerate(np.random.permutation(X_test.shape[0])[:100]):\n",
    "    x = X_test[idx]\n",
    "    pred = classifier.predict(x)\n",
    "    draw_result(X_test[idx], y_test[idx], pred, cnt+1)\n",
    "plt.show()"
   ]
  },
  {
   "cell_type": "markdown",
   "metadata": {},
   "source": [
    "予測結果は正しいですか？  \n",
    "間違えている数字があったとして，それはどのような数字でしょう．\n",
    "\n",
    "最後に分類器を保存します．"
   ]
  },
  {
   "cell_type": "code",
   "execution_count": null,
   "metadata": {
    "collapsed": true
   },
   "outputs": [],
   "source": [
    "classifier.save('neural_network.npz')"
   ]
  }
 ],
 "metadata": {
  "kernelspec": {
   "display_name": "Python 3",
   "language": "python",
   "name": "python3"
  },
  "language_info": {
   "codemirror_mode": {
    "name": "ipython",
    "version": 3
   },
   "file_extension": ".py",
   "mimetype": "text/x-python",
   "name": "python",
   "nbconvert_exporter": "python",
   "pygments_lexer": "ipython3",
   "version": "3.4.4"
  }
 },
 "nbformat": 4,
 "nbformat_minor": 0
}
