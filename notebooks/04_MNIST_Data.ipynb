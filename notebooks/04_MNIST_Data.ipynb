{
 "cells": [
  {
   "cell_type": "code",
   "execution_count": null,
   "metadata": {
    "collapsed": true
   },
   "outputs": [],
   "source": [
    "# 後ほど図を描画するために使います\n",
    "# 先に実行しておいて下さい\n",
    "\n",
    "%matplotlib inline\n",
    "\n",
    "import matplotlib.pyplot as plt\n",
    "import numpy as np\n",
    "\n",
    "plt.style.use('fivethirtyeight')"
   ]
  },
  {
   "cell_type": "markdown",
   "metadata": {},
   "source": [
    "# 5. MNIST Data\n",
    "\n",
    "今回取り組むのは「ニューラルネットワークを使って手書きの数字を認識する」というタスクです．  \n",
    "具体的には，以下のような手書き数字を正しく認識することを目指します．\n",
    "\n",
    "![Example of Digits](example_digits.jpg)\n",
    "\n",
    "人間なら各表記がどの数字を表しているのか簡単に (!?) 理解することができますね．\n",
    "\n",
    "これらの数字がどのようなデータ表現になっているのか見てみましょう．  \n",
    "あらかじめダウンロードしておいた `mnist.pkl.gz` をNotebookがあるフォルダに移動して下さい．\n",
    "\n",
    "データが手元にない方は，以下のリンクをクリックしてダウンロードして下さい：  \n",
    " http://deeplearning.net/data/mnist/mnist.pkl.gz"
   ]
  },
  {
   "cell_type": "markdown",
   "metadata": {},
   "source": [
    "例によってデータを用意する過程については説明しません．  \n",
    "以下を実行して先に進んで下さい．"
   ]
  },
  {
   "cell_type": "code",
   "execution_count": null,
   "metadata": {
    "collapsed": true
   },
   "outputs": [],
   "source": [
    "# データの読み込み\n",
    "\n",
    "import gzip\n",
    "import pickle\n",
    "\n",
    "f = gzip.open('mnist.pkl.gz', 'rb')\n",
    "train_set, _, test_set = pickle.load(f, encoding='latin1')\n",
    "\n",
    "X, y =train_set\n",
    "X_test, y_test = test_set"
   ]
  },
  {
   "cell_type": "markdown",
   "metadata": {},
   "source": [
    "上記の処理により，以下の4つのデータが作成されています．\n",
    "\n",
    "- 正解データ\n",
    "  - X: 予測に利用するデータ\n",
    "  - y: 予測したい対象\n",
    "- テストデータ\n",
    "  - X_test: 予測に利用するデータ\n",
    "  - y_test: 予測したい対象．分類結果が正しかったかどうか確認するために用いる\n",
    "  \n",
    "まずは学習に必要な正解データの中身を見ていきます．  \n",
    "X，yのデータの大きさを確認しましょう（どちらも行列です）  \n",
    "\n",
    "※詰まる方は3つ目のNotebookに戻っておさらいしましょう！"
   ]
  },
  {
   "cell_type": "code",
   "execution_count": null,
   "metadata": {
    "collapsed": true
   },
   "outputs": [],
   "source": [
    "# Xのデータの大きさを確認\n"
   ]
  },
  {
   "cell_type": "code",
   "execution_count": null,
   "metadata": {
    "collapsed": true
   },
   "outputs": [],
   "source": [
    "# yのデータの大きさを確認\n"
   ]
  },
  {
   "cell_type": "markdown",
   "metadata": {},
   "source": [
    "Xとyの上から10行の中身を確認しましょう"
   ]
  },
  {
   "cell_type": "code",
   "execution_count": null,
   "metadata": {
    "collapsed": true
   },
   "outputs": [],
   "source": [
    "# Xの上から10行の中身を確認（列の数が多いので，150~160列を表示）\n"
   ]
  },
  {
   "cell_type": "code",
   "execution_count": null,
   "metadata": {
    "collapsed": true
   },
   "outputs": [],
   "source": [
    "# yの10行の中身を確認\n"
   ]
  },
  {
   "cell_type": "markdown",
   "metadata": {},
   "source": [
    "前回のデータと違って非常に大量のデータです．\n",
    "\n",
    "まずyについて見てみると，Xのそれぞれのデータが何の数字を表すのか，答えのデータが入っているようです．\n",
    "\n",
    "問題はXのデータです．1つのデータあたり784列もあり，中には0〜1の間の小数データが格納されています．  \n",
    "これは何のデータでしょうか？実はこのデータは，数字の画像を 28 x 28 のメッシュ状に分割した際の各マスの濃淡を表しています．\n",
    "\n",
    "以下の `draw_digit` 関数を利用して784列のデータを28 x 28のデータ形式に戻して，描画してみましょう．  \n",
    "まず以下を実行して下さい．"
   ]
  },
  {
   "cell_type": "code",
   "execution_count": null,
   "metadata": {
    "collapsed": true
   },
   "outputs": [],
   "source": [
    "def draw_digit(data):\n",
    "    size = 28\n",
    "    a, b = np.meshgrid(range(size), range(size))  # 28 x 28のデータに変換\n",
    "    c = data.reshape(size, size)                               # 濃淡の情報\n",
    "    c = c[::-1,:]\n",
    "    \n",
    "    plt.figure(figsize=(2.5, 2.5))\n",
    "    plt.xlim(0, 27)\n",
    "    plt.ylim(0, 27)\n",
    "    plt.tick_params(labelbottom=\"off\")\n",
    "    plt.tick_params(labelleft=\"off\")\n",
    "\n",
    "    plt.pcolor(a, b, c)\n",
    "    plt.gray()\n",
    "    \n",
    "    plt.show()"
   ]
  },
  {
   "cell_type": "markdown",
   "metadata": {},
   "source": [
    "適当なXを描画して，対応するyを確認します．  \n",
    "以下を実行して下さい．"
   ]
  },
  {
   "cell_type": "code",
   "execution_count": null,
   "metadata": {
    "collapsed": true
   },
   "outputs": [],
   "source": [
    "draw_digit(X[40000])\n",
    "print('答え: {0}'.format(y[40000]))"
   ]
  },
  {
   "cell_type": "code",
   "execution_count": null,
   "metadata": {
    "collapsed": true
   },
   "outputs": [],
   "source": [
    "# 適当なXとyのペアを描画してみましょう！\n"
   ]
  },
  {
   "cell_type": "markdown",
   "metadata": {},
   "source": [
    "実際に描画してみると，人の目でなら何の数字が書かれているのか瞬時に判断できます．  \n",
    "しかし，機械でこの784つの濃淡の情報から数字を判別するなんて可能なのでしょうか？\n",
    "\n",
    "次のNotebookで，このXとyから分類の規則を学習していきます．"
   ]
  }
 ],
 "metadata": {
  "kernelspec": {
   "display_name": "Python 3",
   "language": "python",
   "name": "python3"
  },
  "language_info": {
   "codemirror_mode": {
    "name": "ipython",
    "version": 3
   },
   "file_extension": ".py",
   "mimetype": "text/x-python",
   "name": "python",
   "nbconvert_exporter": "python",
   "pygments_lexer": "ipython3",
   "version": "3.4.3"
  }
 },
 "nbformat": 4,
 "nbformat_minor": 0
}
