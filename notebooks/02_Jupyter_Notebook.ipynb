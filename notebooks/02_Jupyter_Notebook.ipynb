{
 "cells": [
  {
   "cell_type": "markdown",
   "metadata": {},
   "source": [
    "# 2. Jupyter Notebook\n",
    "\n",
    "※Jupyter Notebookの使い方を知っている方はこの章を飛ばして下さい"
   ]
  },
  {
   "cell_type": "markdown",
   "metadata": {
    "collapsed": true
   },
   "source": [
    "## Jupyter Notebook とは？\n",
    "\n",
    "ここでは，先ほどから特に説明もなく使っている `Jupyter Notebook` というインタラクティブな解析環境について説明します（いまブラウザで開いているこの画面が `Jupyter Notebook` の画面です）  \n",
    "`Jupyter Notebook` とは，`Python` だけに限らず様々な言語に対応した高機能な解析環境です．  \n",
    "`Julia + Python + R` という3つの解析用言語から名前をとって `Jupyter` と名付けられました．  \n",
    "多くのプログラマーがコーディングの際に `Xcode` や `Eclipse` といった統合開発環境を利用するように，解析の現場では `Jupyter Notebook` がよく用いられます．\n",
    "\n",
    "全部の機能を説明する時間がないので，特に便利な機能についてみていきましょう．"
   ]
  },
  {
   "cell_type": "markdown",
   "metadata": {},
   "source": [
    "### Pythonコードを実行する\n",
    "\n",
    "`Jupyter Notebook` 上で簡単にPythonコードを実行出来ます．  \n",
    "以下のセル上で shift+enter を押してそれぞれのコードを実行してみましょう"
   ]
  },
  {
   "cell_type": "code",
   "execution_count": null,
   "metadata": {
    "collapsed": true
   },
   "outputs": [],
   "source": [
    "1 + 1"
   ]
  },
  {
   "cell_type": "code",
   "execution_count": null,
   "metadata": {
    "collapsed": true
   },
   "outputs": [],
   "source": [
    "type(1)"
   ]
  },
  {
   "cell_type": "markdown",
   "metadata": {},
   "source": [
    "実行結果がすぐ下に表示されているのを確認できたでしょうか？  \n",
    "\n",
    "`Jupyter Notebook` は強力な補完機能も持っています．  \n",
    "以下のセル上で `pri` まで打ったところで tab を押してみましょう"
   ]
  },
  {
   "cell_type": "code",
   "execution_count": null,
   "metadata": {
    "collapsed": true
   },
   "outputs": [],
   "source": []
  },
  {
   "cell_type": "markdown",
   "metadata": {},
   "source": [
    "`print` が補完されたかと思います．\n",
    "\n",
    "コマンドヘルプの確認も `Jupyter Notebook` 上で完結させることができます．  \n",
    "確認したいコマンドの前にはてなマークをつけて実行するだけです．"
   ]
  },
  {
   "cell_type": "code",
   "execution_count": 9,
   "metadata": {
    "collapsed": true
   },
   "outputs": [],
   "source": [
    "# このセルを実行して，`print` コマンドのヘルプを確認してみましょう\n",
    "\n",
    "?print"
   ]
  },
  {
   "cell_type": "markdown",
   "metadata": {},
   "source": [
    "途中で新しくセルを挿入したくなったら，メニューの `Insert --> Insert Cell Above (or Insert Cell Bellow)` を使います．  \n",
    "（間違えた場所にセルを挿入してしまった場合は，メニューの `Edit --> Delete Cell` を選択してセルを削除します）\n",
    "\n",
    "以下に新しくセルを挿入して，`list.append` コマンドのヘルプを確認してみましょう．"
   ]
  },
  {
   "cell_type": "markdown",
   "metadata": {},
   "source": [
    "### Markdownを表示する\n",
    "\n",
    "`Jupyter Notebook` 上でMarkdownを編集することも出来ます（ここまで書いてきた文章もすべてMarkdownで書いています）  \n",
    "MarkdownとPythonコード (code) の切り替えは上のツールバーに表示されている `Markdown`（あるいは `Code`）を切り替えることで行えます．\n",
    "\n",
    "以下のセル上の形式をCodeからMarkdownに変更して shift+enter でMarkdownとして実行してみましょう．  \n",
    "セルをダブルクリックすると編集モードに戻ります．"
   ]
  },
  {
   "cell_type": "code",
   "execution_count": null,
   "metadata": {
    "collapsed": true
   },
   "outputs": [],
   "source": [
    "-------\n",
    "\n",
    "このセルは__Markdown__で書いてます\n",
    "\n",
    "- 箇条書きは\n",
    "- こんな感じで\n",
    "- 書ける\n",
    "\n",
    "![Python Logo](./python-logo.gif)\n",
    "\n",
    "```python\n",
    "# こんな感じでも書ける\n",
    "print(\"Pythonコードとして書いてみたり\")\n",
    "```\n",
    "\n",
    "> 引用も簡単！！！\n",
    "\n",
    "$y$ と $x$ の関係を数式使って書いてみたりもできる  \n",
    "数式は `Mathjax` 形式\n",
    "\n",
    "$$y=\\sum_{i=1}^N\\left(ax_i+b_i\\right)$$\n",
    "\n",
    "-------"
   ]
  },
  {
   "cell_type": "markdown",
   "metadata": {},
   "source": [
    "上記とは逆に，以下のセルの形式をMarkdownからCodeに変更して，Pythonコードとして実行してみましょう．"
   ]
  },
  {
   "cell_type": "markdown",
   "metadata": {},
   "source": [
    "name = 'Hanako'\n",
    "print(\"Hello! My name is {name}.\".format(name=name))"
   ]
  },
  {
   "cell_type": "markdown",
   "metadata": {},
   "source": [
    "### グラフをNotebook上に埋め込んで表示する\n",
    "\n",
    "解析をやっていると，結果をグラフで確認したいという場面がよく出てきます．  \n",
    "`Jupyter Notebook` を利用すると，結果のグラフをNotebook上に埋め込んで確認することができます．\n",
    "\n",
    "Pythonでのグラフ描画には，`matplotlib.pyplot` というモジュールを利用します．  \n",
    "以下のグラフを表示する処理を実行してみましょう．"
   ]
  },
  {
   "cell_type": "code",
   "execution_count": null,
   "metadata": {
    "collapsed": true
   },
   "outputs": [],
   "source": [
    "import matplotlib.pyplot as plt\n",
    "\n",
    "x = [1, 2, 3]\n",
    "y = [2, 4, 6]\n",
    "\n",
    "plt.plot(x, y)"
   ]
  },
  {
   "cell_type": "markdown",
   "metadata": {},
   "source": [
    "グラフがうまく表示されませんね．  \n",
    "グラフを埋め込んで表示するためには，Notebook上で一度だけ以下の特殊コマンドを実行する必要があります．  \n",
    "\n",
    "```python\n",
    "%matplotlib inline\n",
    "```\n",
    "\n",
    "上記の特殊コマンドをセルの一番最初の行に書き加えた上で，もう一度先ほどのグラフを表示する処理を実行してみましょう．"
   ]
  },
  {
   "cell_type": "code",
   "execution_count": null,
   "metadata": {
    "collapsed": true
   },
   "outputs": [],
   "source": []
  },
  {
   "cell_type": "markdown",
   "metadata": {},
   "source": [
    "グラフが表示されるのを確認できたかと思います！  \n",
    "グラフの見た目を変えたい場合は，`import` 文の下にどんなスタイルを使うのかといった宣言を付け加えます．\n",
    "\n",
    "```python\n",
    "import matplotlib.pyplot as plt\n",
    "plt.style.use('ggplot')\n",
    "\n",
    "# 以下処理が続く\n",
    "```\n",
    "\n",
    "`ggplot` の他にも `bmh`，`grayscale`，`fivethirtyeight`，`dark_background` といったスタイルを利用できます．  \n",
    "グラフのスタイルを変更した上で，もう一度先ほどのグラフを表示させてみましょう．"
   ]
  },
  {
   "cell_type": "code",
   "execution_count": null,
   "metadata": {
    "collapsed": true
   },
   "outputs": [],
   "source": []
  },
  {
   "cell_type": "markdown",
   "metadata": {},
   "source": [
    "### その他のリッチな機能\n",
    "\n",
    "これまでに紹介した機能を使うと，データを解析してグラフを確認して結果をレポートするといった一連の解析作業を `Jupyter Notebook` 上で完結させることができます．\n",
    "\n",
    "その他，`Jupyter Notebook` には様々な機能がついています．  \n",
    "適当に例をあげてみたのでそれぞれ実行してみましょう．"
   ]
  },
  {
   "cell_type": "code",
   "execution_count": null,
   "metadata": {
    "collapsed": true
   },
   "outputs": [],
   "source": [
    "# 適当に図を書いてみたり\n",
    "\n",
    "%matplotlib inline\n",
    "import matplotlib.pyplot as plt\n",
    "import scipy as sp\n",
    "\n",
    "plt.style.use('ggplot')\n",
    "plt.plot(range(1, 50), sp.sin(range(1, 50)))"
   ]
  },
  {
   "cell_type": "code",
   "execution_count": null,
   "metadata": {
    "collapsed": true
   },
   "outputs": [],
   "source": [
    "# URLで画像を指定して表示させてみたり\n",
    "\n",
    "from IPython.display import Image\n",
    "i = Image(url='http://python.org/images/python-logo.gif')\n",
    "i"
   ]
  },
  {
   "cell_type": "code",
   "execution_count": null,
   "metadata": {
    "collapsed": true
   },
   "outputs": [],
   "source": [
    "# CSSを適用してみたり\n",
    "\n",
    "from IPython.core.display import HTML\n",
    "css_file = './notebook.css'\n",
    "HTML(open(css_file, \"r\").read())"
   ]
  },
  {
   "cell_type": "code",
   "execution_count": null,
   "metadata": {
    "collapsed": true
   },
   "outputs": [],
   "source": [
    "# YouTube Videoを埋め込んでみたり\n",
    "\n",
    "from IPython.display import YouTubeVideo\n",
    "YouTubeVideo('1j_HxD4iLn8')"
   ]
  },
  {
   "cell_type": "code",
   "execution_count": null,
   "metadata": {
    "collapsed": true
   },
   "outputs": [],
   "source": [
    "# IFrameを利用して外部のサイトを埋め込んでみたり\n",
    "\n",
    "from IPython.display import IFrame\n",
    "IFrame('https://ja.wikipedia.org/wiki/Python', width='100%', height=350)"
   ]
  },
  {
   "cell_type": "markdown",
   "metadata": {},
   "source": [
    "`Jupyter Notebook` のざっくりとした使い方は分かったでしょうか？  \n",
    "では次の章に進みましょう．"
   ]
  },
  {
   "cell_type": "code",
   "execution_count": null,
   "metadata": {
    "collapsed": true
   },
   "outputs": [],
   "source": []
  }
 ],
 "metadata": {
  "kernelspec": {
   "display_name": "Python 3",
   "language": "python",
   "name": "python3"
  },
  "language_info": {
   "codemirror_mode": {
    "name": "ipython",
    "version": 3
   },
   "file_extension": ".py",
   "mimetype": "text/x-python",
   "name": "python",
   "nbconvert_exporter": "python",
   "pygments_lexer": "ipython3",
   "version": "3.4.3"
  }
 },
 "nbformat": 4,
 "nbformat_minor": 0
}
