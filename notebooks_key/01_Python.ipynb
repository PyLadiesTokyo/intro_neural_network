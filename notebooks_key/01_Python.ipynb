{
 "cells": [
  {
   "cell_type": "markdown",
   "metadata": {},
   "source": [
    "# 1. Python\n",
    "\n",
    "※Pythonある程度書けます！という方はこの章を飛ばして下さい"
   ]
  },
  {
   "cell_type": "markdown",
   "metadata": {
    "collapsed": true
   },
   "source": [
    "## Pythonとは？\n",
    "\n",
    "Pythonは，構文がシンプルな軽量スクリプト型プログラミング言語です．  \n",
    "ここでは，本ハンズオンを行う上で必要そうな内容をかいつまんで紹介します．\n",
    "\n",
    "・・・の前に，この実行環境について簡単な操作方法を説明しましょう．  \n",
    "この実行環境では，左側に `In []` が表示された以下の様なセル上でPythonのコードを実行することができます．  \n",
    "試してみましょう．以下のセルにカーソルを合わせて，shift+enter を押して下さい．"
   ]
  },
  {
   "cell_type": "code",
   "execution_count": 1,
   "metadata": {
    "collapsed": false
   },
   "outputs": [
    {
     "name": "stdout",
     "output_type": "stream",
     "text": [
      "Hello World!\n"
     ]
    }
   ],
   "source": [
    "print('Hello World!')"
   ]
  },
  {
   "cell_type": "markdown",
   "metadata": {},
   "source": [
    "プログラムが正しく実行されたら，`Hello World!` という実行結果が表示されているはずです．"
   ]
  },
  {
   "cell_type": "markdown",
   "metadata": {},
   "source": [
    "### インデントをブロックとして利用\n",
    "\n",
    "Pythonの大きな特徴の一つに，ブロックを表現する際 `{}` や `begin ... end` を使わずインデントを使うという点が挙げられます．例を見てみましょう．  \n",
    "以下のセル上で shift+enter を押して書かれているプログラムを実行してみて下さい．"
   ]
  },
  {
   "cell_type": "code",
   "execution_count": 2,
   "metadata": {
    "collapsed": false
   },
   "outputs": [
    {
     "name": "stdout",
     "output_type": "stream",
     "text": [
      "Hello World!\n"
     ]
    }
   ],
   "source": [
    "# Hello World という関数を定義\n",
    "def print_helloworld():\n",
    "    print('Hello World!')\n",
    "\n",
    "# 定義した関数を呼び出し\n",
    "print_helloworld()"
   ]
  },
  {
   "cell_type": "markdown",
   "metadata": {},
   "source": [
    "プログラムが正しく実行出来れば，`Hello World!` が表示されます．  \n",
    "ここで，`print('Hello World')` の前のスペースを全て消してプログラムを実行するとどうなるでしょうか？\n",
    "\n",
    "...\n",
    "\n",
    "`IndentationError` が発生するかと思います．これはプログラムがインデントをブロックとして解釈しているためです．  \n",
    "不用意にインデントを削除するとプログラムが動作しなくなることがあるため，注意して下さい．"
   ]
  },
  {
   "cell_type": "markdown",
   "metadata": {},
   "source": [
    "### 行列の処理\n",
    "\n",
    "機械学習をする上でほとんどのデータは行列形式で与えられますので，行列操作について学んでおきましょう．  \n",
    "Pythonにおける行列演算には，`numpy` というライブラリを利用します．\n",
    "\n",
    "まずは以下を実行してみましょう．"
   ]
  },
  {
   "cell_type": "code",
   "execution_count": 3,
   "metadata": {
    "collapsed": false
   },
   "outputs": [
    {
     "data": {
      "text/plain": [
       "array([1, 2, 3])"
      ]
     },
     "execution_count": 3,
     "metadata": {},
     "output_type": "execute_result"
    }
   ],
   "source": [
    "import numpy as np\n",
    "\n",
    "a = np.array([1, 2, 3])  # 1, 2, 3の要素が入った1次行列を作る\n",
    "a"
   ]
  },
  {
   "cell_type": "code",
   "execution_count": 4,
   "metadata": {
    "collapsed": false
   },
   "outputs": [
    {
     "data": {
      "text/plain": [
       "array([[ 1.5,  0. ],\n",
       "       [ 2. ,  3. ]])"
      ]
     },
     "execution_count": 4,
     "metadata": {},
     "output_type": "execute_result"
    }
   ],
   "source": [
    "b = np.array([[1.5, 0], [2.0, 3.0]])  # 2次行列を作る\n",
    "b"
   ]
  },
  {
   "cell_type": "markdown",
   "metadata": {},
   "source": [
    "インデックスを利用して行列の要素へアクセス出来ます（他のプログラミング言語と同じです）    \n",
    "以下を実行してみましょう．"
   ]
  },
  {
   "cell_type": "code",
   "execution_count": 5,
   "metadata": {
    "collapsed": false
   },
   "outputs": [
    {
     "data": {
      "text/plain": [
       "1"
      ]
     },
     "execution_count": 5,
     "metadata": {},
     "output_type": "execute_result"
    }
   ],
   "source": [
    "a[0]  # 0番目の要素にアクセス"
   ]
  },
  {
   "cell_type": "markdown",
   "metadata": {},
   "source": [
    "bの行列の3.0の要素にアクセスするには以下のように書きます．実行してみましょう．"
   ]
  },
  {
   "cell_type": "code",
   "execution_count": 6,
   "metadata": {
    "collapsed": false
   },
   "outputs": [
    {
     "data": {
      "text/plain": [
       "3.0"
      ]
     },
     "execution_count": 6,
     "metadata": {},
     "output_type": "execute_result"
    }
   ],
   "source": [
    "b[1, 1]  # b[1][1] とも書ける．同義"
   ]
  },
  {
   "cell_type": "markdown",
   "metadata": {},
   "source": [
    "bの行列の2.0の要素にアクセスしてみましょう．"
   ]
  },
  {
   "cell_type": "code",
   "execution_count": 7,
   "metadata": {
    "collapsed": false
   },
   "outputs": [
    {
     "data": {
      "text/plain": [
       "2.0"
      ]
     },
     "execution_count": 7,
     "metadata": {},
     "output_type": "execute_result"
    }
   ],
   "source": [
    "# bの行列の2.0の要素にアクセス\n",
    "b[1, 0]"
   ]
  },
  {
   "cell_type": "markdown",
   "metadata": {},
   "source": [
    "行列の大きさを知るためには，`.shape` を使います．  \n",
    "以下を実行してみましょう．"
   ]
  },
  {
   "cell_type": "code",
   "execution_count": 8,
   "metadata": {
    "collapsed": false
   },
   "outputs": [
    {
     "data": {
      "text/plain": [
       "(3,)"
      ]
     },
     "execution_count": 8,
     "metadata": {},
     "output_type": "execute_result"
    }
   ],
   "source": [
    "a.shape"
   ]
  },
  {
   "cell_type": "markdown",
   "metadata": {},
   "source": [
    "上記の結果は (3, 1) と同義です．大きさが1の場合は省略して書かれます．  \n",
    "bの行列の大きさを確認してみて下さい．"
   ]
  },
  {
   "cell_type": "code",
   "execution_count": 9,
   "metadata": {
    "collapsed": false
   },
   "outputs": [
    {
     "data": {
      "text/plain": [
       "(2, 2)"
      ]
     },
     "execution_count": 9,
     "metadata": {},
     "output_type": "execute_result"
    }
   ],
   "source": [
    "# bの行列の大きさを確認\n",
    "b.shape"
   ]
  },
  {
   "cell_type": "markdown",
   "metadata": {},
   "source": [
    "今回の例は非常に小さな行列ですが，機械学習ではえてして大規模なデータを扱うことが多いため，行列の中身の一部だけを確認する方法も勉強しておきましょう．  \n",
    "行列の一部を確認するにはスライス操作が便利です．\n",
    "\n",
    "スライス操作：  \n",
    "a [ start : end ] --> [ start, ..., end-1 ]  ( start, end はどちらも数字 )\n",
    "\n",
    "start / end の数字を変更することで，巨大な行列から任意の大きさの行列を一部取り出して確認することができます．  \n",
    "以下を実行してみましょう．"
   ]
  },
  {
   "cell_type": "code",
   "execution_count": 10,
   "metadata": {
    "collapsed": false
   },
   "outputs": [
    {
     "data": {
      "text/plain": [
       "array([1, 2])"
      ]
     },
     "execution_count": 10,
     "metadata": {},
     "output_type": "execute_result"
    }
   ],
   "source": [
    "a[0:2]  # a[:2] とも書けます"
   ]
  },
  {
   "cell_type": "markdown",
   "metadata": {},
   "source": [
    "行列の0番目から，2-1=1番目までの要素を取り出して確認することができました．  \n",
    "`:` のみを利用するとその行列中の全ての要素を返してきます．  \n",
    "以下を実行してみましょう．"
   ]
  },
  {
   "cell_type": "code",
   "execution_count": 11,
   "metadata": {
    "collapsed": false
   },
   "outputs": [
    {
     "data": {
      "text/plain": [
       "array([1, 2, 3])"
      ]
     },
     "execution_count": 11,
     "metadata": {},
     "output_type": "execute_result"
    }
   ],
   "source": [
    "a[:]"
   ]
  },
  {
   "cell_type": "markdown",
   "metadata": {},
   "source": [
    "ここまでのテクニックを組み合わせてみましょう（ややこしくなって参りました）  \n",
    "各行の0番目の要素にアクセスするには以下のように書きます．"
   ]
  },
  {
   "cell_type": "code",
   "execution_count": 12,
   "metadata": {
    "collapsed": false
   },
   "outputs": [
    {
     "data": {
      "text/plain": [
       "array([ 1.5,  2. ])"
      ]
     },
     "execution_count": 12,
     "metadata": {},
     "output_type": "execute_result"
    }
   ],
   "source": [
    "b[:, 0]"
   ]
  },
  {
   "cell_type": "markdown",
   "metadata": {},
   "source": [
    "`array([0., 3.0])` の結果を得るためには，bの行列に対してどのような操作をすればよいでしょうか？"
   ]
  },
  {
   "cell_type": "code",
   "execution_count": 13,
   "metadata": {
    "collapsed": false
   },
   "outputs": [
    {
     "data": {
      "text/plain": [
       "array([ 0.,  3.])"
      ]
     },
     "execution_count": 13,
     "metadata": {},
     "output_type": "execute_result"
    }
   ],
   "source": [
    "# bの行列へどのようにアクセスすれば `array([0., 3.0])` の結果が得られる？\n",
    "b[:, 1]"
   ]
  },
  {
   "cell_type": "markdown",
   "metadata": {},
   "source": [
    "最後におさらいです．以下のような `c` という行列を定義します．  \n",
    "この行列の\n",
    "\n",
    "- 行列のサイズはどうなっていますか？\n",
    "- 各行の最初の10列を確認してみて下さい"
   ]
  },
  {
   "cell_type": "code",
   "execution_count": 14,
   "metadata": {
    "collapsed": true
   },
   "outputs": [],
   "source": [
    "c = np.array([np.linspace(10, 100, 50), np.linspace(0, 1, 50), np.linspace(10, 20, 50)])"
   ]
  },
  {
   "cell_type": "code",
   "execution_count": 15,
   "metadata": {
    "collapsed": false
   },
   "outputs": [
    {
     "data": {
      "text/plain": [
       "(3, 50)"
      ]
     },
     "execution_count": 15,
     "metadata": {},
     "output_type": "execute_result"
    }
   ],
   "source": [
    "# 行列のサイズは？\n",
    "c.shape"
   ]
  },
  {
   "cell_type": "code",
   "execution_count": 16,
   "metadata": {
    "collapsed": false
   },
   "outputs": [
    {
     "data": {
      "text/plain": [
       "array([[  1.00000000e+01,   1.18367347e+01,   1.36734694e+01,\n",
       "          1.55102041e+01,   1.73469388e+01,   1.91836735e+01,\n",
       "          2.10204082e+01,   2.28571429e+01,   2.46938776e+01,\n",
       "          2.65306122e+01],\n",
       "       [  0.00000000e+00,   2.04081633e-02,   4.08163265e-02,\n",
       "          6.12244898e-02,   8.16326531e-02,   1.02040816e-01,\n",
       "          1.22448980e-01,   1.42857143e-01,   1.63265306e-01,\n",
       "          1.83673469e-01],\n",
       "       [  1.00000000e+01,   1.02040816e+01,   1.04081633e+01,\n",
       "          1.06122449e+01,   1.08163265e+01,   1.10204082e+01,\n",
       "          1.12244898e+01,   1.14285714e+01,   1.16326531e+01,\n",
       "          1.18367347e+01]])"
      ]
     },
     "execution_count": 16,
     "metadata": {},
     "output_type": "execute_result"
    }
   ],
   "source": [
    "# 各行の最初の10列を表示\n",
    "c[:, :10]"
   ]
  },
  {
   "cell_type": "code",
   "execution_count": null,
   "metadata": {
    "collapsed": true
   },
   "outputs": [],
   "source": []
  }
 ],
 "metadata": {
  "kernelspec": {
   "display_name": "Python 3",
   "language": "python",
   "name": "python3"
  },
  "language_info": {
   "codemirror_mode": {
    "name": "ipython",
    "version": 3
   },
   "file_extension": ".py",
   "mimetype": "text/x-python",
   "name": "python",
   "nbconvert_exporter": "python",
   "pygments_lexer": "ipython3",
   "version": "3.4.4"
  }
 },
 "nbformat": 4,
 "nbformat_minor": 0
}
