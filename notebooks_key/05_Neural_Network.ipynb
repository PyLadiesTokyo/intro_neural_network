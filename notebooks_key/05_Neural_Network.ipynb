{
 "cells": [
  {
   "cell_type": "markdown",
   "metadata": {},
   "source": [
    "# 5. Neural Network\n",
    "\n",
    "※この章は読み物です\n",
    "\n",
    "さて，MNISTのデータを確認したところで本日の本題です．\n",
    "\n",
    "3つめのNotebookの最後の方で，様々な分類器があることを知りました．  \n",
    "その中でも，このワークショップでは手書き数字の認識に対して高い精度を示す「ニューラルネットワーク（Neural Network）」と呼ばれる手法を取り上げます．  "
   ]
  },
  {
   "cell_type": "markdown",
   "metadata": {},
   "source": [
    "## ニューラルネットワークって何？\n",
    "\n",
    "折角なので，ニューラルネットワークの大雑把な概要を説明します．\n",
    "\n",
    "ニューラルネットワークとは，人間の脳の神経細胞（ニューロン）の信号伝達に着想を得たアルゴリズムです．  \n",
    "脳においてニューロンからニューロンへ信号が伝達されるというのはどんな感じなのでしょうか．映像で見てみましょう．"
   ]
  },
  {
   "cell_type": "code",
   "execution_count": 1,
   "metadata": {
    "collapsed": false
   },
   "outputs": [
    {
     "data": {
      "text/html": [
       "\n",
       "        <iframe\n",
       "            width=\"400\"\n",
       "            height=\"300\"\n",
       "            src=\"https://www.youtube.com/embed/TKG0MtH5crc\"\n",
       "            frameborder=\"0\"\n",
       "            allowfullscreen\n",
       "        ></iframe>\n",
       "        "
      ],
      "text/plain": [
       "<IPython.lib.display.YouTubeVideo at 0x104923898>"
      ]
     },
     "execution_count": 1,
     "metadata": {},
     "output_type": "execute_result"
    }
   ],
   "source": [
    "# 音量注意 (全部見る必要ないので適当なとこで止めて下さい)\n",
    "\n",
    "from IPython.display import YouTubeVideo\n",
    "YouTubeVideo('TKG0MtH5crc')"
   ]
  },
  {
   "cell_type": "markdown",
   "metadata": {},
   "source": [
    "上記を頭に入れた上で，今回扱うニューラルネットワークのモデルを図で見てみましょう．  \n",
    "（下図に示されるようなニューラルネットワークを専門用語で__多層パーセプトロン__といいます）\n",
    "\n",
    "![](./neural_network.png)\n",
    "\n",
    "数字や文字は無視して下さい．この図の丸がニューロンを表しています．  \n",
    "ニューラルネットワークでは，ニューロンからニューロンへ信号が伝達していく過程で，どのニューロンから送られてくる情報が大事なのか？ということを自動的に学習していきます．\n",
    "\n",
    "今回の例だと，入力層側は 28 x 28 の784個，出力層側は 0~9 の数字を表現するために10個になります．  \n",
    "中間層と書かれている部分のニューロンの数の数をいくつにすれば良いのか？というのは分類器を作成する側が指定します（パラメータ）"
   ]
  },
  {
   "cell_type": "code",
   "execution_count": null,
   "metadata": {
    "collapsed": true
   },
   "outputs": [],
   "source": []
  }
 ],
 "metadata": {
  "kernelspec": {
   "display_name": "Python 3",
   "language": "python",
   "name": "python3"
  },
  "language_info": {
   "codemirror_mode": {
    "name": "ipython",
    "version": 3
   },
   "file_extension": ".py",
   "mimetype": "text/x-python",
   "name": "python",
   "nbconvert_exporter": "python",
   "pygments_lexer": "ipython3",
   "version": "3.4.4"
  }
 },
 "nbformat": 4,
 "nbformat_minor": 0
}
